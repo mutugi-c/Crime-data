{
 "cells": [
  {
   "cell_type": "markdown",
   "id": "7ed7feeb-5b30-448e-8d88-93145ded6d20",
   "metadata": {},
   "source": [
    "## Pre-processing gridded crime data for Estonia"
   ]
  },
  {
   "cell_type": "markdown",
   "id": "cfbff274-f45f-44d5-9348-7444db15aba6",
   "metadata": {},
   "source": [
    "The dataset is provided by the Information Technology and Development Center of the Ministry of the Interior of Estonia (SMIT). SMIT is the largest IT institution in the country, which creates and manages information systems necessary for saving lives and ensuring internal security. The data contains anonymised records of crimes, felonies and other offenses against the law. The data is binned into squares of either 500mx500m or 1000mx1000m. However, when working with the datasets, issues and errors can be expected within the data and have to be dealt with to get the valuable information out.\n",
    "\n",
    "The variables focused on: Lest_X and Lest_Y (coordinate bounds in Estonian EPSG:3301 projected coordinates) as well as the damage caused \"Kahjusumma.\""
   ]
  },
  {
   "cell_type": "code",
   "execution_count": 1,
   "id": "de4f1e7f-f0b8-4d7b-9876-69ffd0704836",
   "metadata": {},
   "outputs": [],
   "source": [
    "# Import necessary modules/libraries\n",
    "import requests\n",
    "import pandas as pd\n",
    "import numpy as np\n",
    "from shapely.geometry import box, LineString\n",
    "import geopandas as gpd\n",
    "import matplotlib.pyplot as plt"
   ]
  },
  {
   "cell_type": "code",
   "execution_count": 2,
   "id": "359de94b-9752-4c45-a6e7-8b6bf8c792c1",
   "metadata": {},
   "outputs": [],
   "source": [
    "# Download the data directly in Python and save it into the working folder\n",
    "data_url = \"https://opendata.smit.ee/ppa/csv/avalik_3.csv\"\n",
    "save_file_name = \"avalik_3.csv\"\n",
    "\n",
    "response = requests.get(data_url)"
   ]
  },
  {
   "cell_type": "code",
   "execution_count": 3,
   "id": "575d55df-56af-4423-8adc-057d9d0cb876",
   "metadata": {},
   "outputs": [
    {
     "name": "stdout",
     "output_type": "stream",
     "text": [
      "200\n"
     ]
    }
   ],
   "source": [
    "# Indicate request status\n",
    "print(response.status_code)"
   ]
  },
  {
   "cell_type": "code",
   "execution_count": 4,
   "id": "ef297a7c-a53a-4bd6-8cf2-923905e5b7ed",
   "metadata": {},
   "outputs": [],
   "source": [
    "# Open & write into the downloaded content into the save_file_name\n",
    "with open(save_file_name, 'wb') as f:\n",
    "    f.write(response.content)"
   ]
  },
  {
   "cell_type": "code",
   "execution_count": 5,
   "id": "ee43ddcb-9939-4375-8f41-ac9fbb657cef",
   "metadata": {},
   "outputs": [
    {
     "data": {
      "text/html": [
       "<div>\n",
       "<style scoped>\n",
       "    .dataframe tbody tr th:only-of-type {\n",
       "        vertical-align: middle;\n",
       "    }\n",
       "\n",
       "    .dataframe tbody tr th {\n",
       "        vertical-align: top;\n",
       "    }\n",
       "\n",
       "    .dataframe thead th {\n",
       "        text-align: right;\n",
       "    }\n",
       "</style>\n",
       "<table border=\"1\" class=\"dataframe\">\n",
       "  <thead>\n",
       "    <tr style=\"text-align: right;\">\n",
       "      <th></th>\n",
       "      <th>JuhtumId</th>\n",
       "      <th>ToimKpv</th>\n",
       "      <th>ToimKell</th>\n",
       "      <th>ToimNadalapaev</th>\n",
       "      <th>SyndmusLiik</th>\n",
       "      <th>SyndmusTaiendavStatLiik</th>\n",
       "      <th>Seadus</th>\n",
       "      <th>Paragrahv</th>\n",
       "      <th>ParagrahvTais</th>\n",
       "      <th>Loige</th>\n",
       "      <th>Kahjusumma</th>\n",
       "      <th>KohtLiik</th>\n",
       "      <th>MaakondNimetus</th>\n",
       "      <th>ValdLinnNimetus</th>\n",
       "      <th>KohtNimetus</th>\n",
       "      <th>Lest_X</th>\n",
       "      <th>Lest_Y</th>\n",
       "      <th>SyyteoLiik</th>\n",
       "    </tr>\n",
       "  </thead>\n",
       "  <tbody>\n",
       "    <tr>\n",
       "      <th>0</th>\n",
       "      <td>ec4cc3fc-1635-18d5-8326-a9a756483dba</td>\n",
       "      <td>2016-12-31</td>\n",
       "      <td>23:30</td>\n",
       "      <td>Laupäev</td>\n",
       "      <td>VARGUS</td>\n",
       "      <td>MUU_VARGUS</td>\n",
       "      <td>Karistusseadustik</td>\n",
       "      <td>§ 199.</td>\n",
       "      <td>§ 199. Vargus</td>\n",
       "      <td>lg. 1.</td>\n",
       "      <td>0-499</td>\n",
       "      <td>AVALIK_KOHT,SOOGIKOHT</td>\n",
       "      <td>Harju maakond</td>\n",
       "      <td>Tallinn</td>\n",
       "      <td>Kesklinna linnaosa</td>\n",
       "      <td>6588500-6588999</td>\n",
       "      <td>542000-542499</td>\n",
       "      <td>KT</td>\n",
       "    </tr>\n",
       "  </tbody>\n",
       "</table>\n",
       "</div>"
      ],
      "text/plain": [
       "                               JuhtumId     ToimKpv ToimKell ToimNadalapaev  \\\n",
       "0  ec4cc3fc-1635-18d5-8326-a9a756483dba  2016-12-31    23:30        Laupäev   \n",
       "\n",
       "  SyndmusLiik SyndmusTaiendavStatLiik             Seadus Paragrahv  \\\n",
       "0      VARGUS              MUU_VARGUS  Karistusseadustik    § 199.   \n",
       "\n",
       "   ParagrahvTais   Loige Kahjusumma               KohtLiik MaakondNimetus  \\\n",
       "0  § 199. Vargus  lg. 1.      0-499  AVALIK_KOHT,SOOGIKOHT  Harju maakond   \n",
       "\n",
       "  ValdLinnNimetus         KohtNimetus           Lest_X         Lest_Y  \\\n",
       "0         Tallinn  Kesklinna linnaosa  6588500-6588999  542000-542499   \n",
       "\n",
       "  SyyteoLiik  \n",
       "0         KT  "
      ]
     },
     "execution_count": 5,
     "metadata": {},
     "output_type": "execute_result"
    }
   ],
   "source": [
    "# Read the CSV and strip whitespace\n",
    "df = pd.read_table(save_file_name).apply(lambda col: col.str.strip())\n",
    "df[df == \"\"] = np.nan\n",
    "df = df.dropna()\n",
    "df.head(1)"
   ]
  },
  {
   "cell_type": "code",
   "execution_count": 6,
   "id": "54555b41-9500-41d0-bc5a-78ecd40ffc87",
   "metadata": {},
   "outputs": [
    {
     "data": {
      "text/html": [
       "<div>\n",
       "<style scoped>\n",
       "    .dataframe tbody tr th:only-of-type {\n",
       "        vertical-align: middle;\n",
       "    }\n",
       "\n",
       "    .dataframe tbody tr th {\n",
       "        vertical-align: top;\n",
       "    }\n",
       "\n",
       "    .dataframe thead th {\n",
       "        text-align: right;\n",
       "    }\n",
       "</style>\n",
       "<table border=\"1\" class=\"dataframe\">\n",
       "  <thead>\n",
       "    <tr style=\"text-align: right;\">\n",
       "      <th></th>\n",
       "      <th>Kahjusumma</th>\n",
       "      <th>Lest_X</th>\n",
       "      <th>Lest_Y</th>\n",
       "    </tr>\n",
       "  </thead>\n",
       "  <tbody>\n",
       "    <tr>\n",
       "      <th>0</th>\n",
       "      <td>0-499</td>\n",
       "      <td>6588500-6588999</td>\n",
       "      <td>542000-542499</td>\n",
       "    </tr>\n",
       "    <tr>\n",
       "      <th>5</th>\n",
       "      <td>500-4999</td>\n",
       "      <td>6589000-6589499</td>\n",
       "      <td>542000-542499</td>\n",
       "    </tr>\n",
       "  </tbody>\n",
       "</table>\n",
       "</div>"
      ],
      "text/plain": [
       "  Kahjusumma           Lest_X         Lest_Y\n",
       "0      0-499  6588500-6588999  542000-542499\n",
       "5   500-4999  6589000-6589499  542000-542499"
      ]
     },
     "execution_count": 6,
     "metadata": {},
     "output_type": "execute_result"
    }
   ],
   "source": [
    "# Select the columns of interest\n",
    "df = df.loc[:, ['Kahjusumma', 'Lest_X', 'Lest_Y']]\n",
    "df.head(2)"
   ]
  },
  {
   "cell_type": "markdown",
   "id": "9771c346-d448-4edc-b2d7-9390423c468b",
   "metadata": {},
   "source": [
    "### The location information in the \"Kahjusumma\t\" column is encoded in square grid cells, with either 500m or 1000m side length (min-max).\n",
    "### The next step is to extract the coordinate values and build square polygons for each row."
   ]
  },
  {
   "cell_type": "code",
   "execution_count": 7,
   "id": "078e24d8-0db8-41ea-9556-57d18827a403",
   "metadata": {},
   "outputs": [],
   "source": [
    "# Functions to split and obtain min_x, max_x, min_y and max_y for each row\n",
    "\n",
    "def split_min_x(row):\n",
    "    ''' This function splits string coordinates and returns the min x coordinate '''\n",
    "    try:\n",
    "        split_lest = row['Lest_X'].split('-')\n",
    "        min_x = split_lest[0]\n",
    "        return min_x\n",
    "    except:\n",
    "        pass\n",
    "\n",
    "def split_max_x(row):\n",
    "    ''' This function splits string coordinates and returns the max x coordinate '''\n",
    "    try:\n",
    "        split_lest = row['Lest_X'].split('-')\n",
    "        max_x = split_lest[1]\n",
    "        return max_x\n",
    "    except:\n",
    "        pass\n",
    "    \n",
    "def split_min_y(row):\n",
    "    ''' This function splits string coordinates and returns the min y coordinate '''\n",
    "    try:\n",
    "        split_lest = row['Lest_Y'].split('-')\n",
    "        min_y = split_lest[0]\n",
    "        return min_y\n",
    "    except:\n",
    "        pass\n",
    "    \n",
    "def split_max_y(row):\n",
    "    ''' This function splits string coordinates and returns the max y coordinate '''\n",
    "    try:\n",
    "        split_lest = row['Lest_Y'].split('-')\n",
    "        max_y = split_lest[1]\n",
    "        return max_y\n",
    "    except:\n",
    "        pass"
   ]
  },
  {
   "cell_type": "code",
   "execution_count": 8,
   "id": "f83e970b-6baf-4685-ac1b-66800dfee1f9",
   "metadata": {},
   "outputs": [
    {
     "data": {
      "text/html": [
       "<div>\n",
       "<style scoped>\n",
       "    .dataframe tbody tr th:only-of-type {\n",
       "        vertical-align: middle;\n",
       "    }\n",
       "\n",
       "    .dataframe tbody tr th {\n",
       "        vertical-align: top;\n",
       "    }\n",
       "\n",
       "    .dataframe thead th {\n",
       "        text-align: right;\n",
       "    }\n",
       "</style>\n",
       "<table border=\"1\" class=\"dataframe\">\n",
       "  <thead>\n",
       "    <tr style=\"text-align: right;\">\n",
       "      <th></th>\n",
       "      <th>Kahjusumma</th>\n",
       "      <th>Lest_X</th>\n",
       "      <th>Lest_Y</th>\n",
       "      <th>min_x</th>\n",
       "      <th>max_x</th>\n",
       "      <th>min_y</th>\n",
       "      <th>max_y</th>\n",
       "    </tr>\n",
       "  </thead>\n",
       "  <tbody>\n",
       "    <tr>\n",
       "      <th>0</th>\n",
       "      <td>0-499</td>\n",
       "      <td>6588500-6588999</td>\n",
       "      <td>542000-542499</td>\n",
       "      <td>6588500</td>\n",
       "      <td>6588999</td>\n",
       "      <td>542000</td>\n",
       "      <td>542499</td>\n",
       "    </tr>\n",
       "    <tr>\n",
       "      <th>5</th>\n",
       "      <td>500-4999</td>\n",
       "      <td>6589000-6589499</td>\n",
       "      <td>542000-542499</td>\n",
       "      <td>6589000</td>\n",
       "      <td>6589499</td>\n",
       "      <td>542000</td>\n",
       "      <td>542499</td>\n",
       "    </tr>\n",
       "  </tbody>\n",
       "</table>\n",
       "</div>"
      ],
      "text/plain": [
       "  Kahjusumma           Lest_X         Lest_Y    min_x    max_x   min_y   max_y\n",
       "0      0-499  6588500-6588999  542000-542499  6588500  6588999  542000  542499\n",
       "5   500-4999  6589000-6589499  542000-542499  6589000  6589499  542000  542499"
      ]
     },
     "execution_count": 8,
     "metadata": {},
     "output_type": "execute_result"
    }
   ],
   "source": [
    "#create the min_x, max_x, min_y and max_y columns\n",
    "df['min_x'] = pd.to_numeric(df.apply(split_min_x, axis=1))\n",
    "df['max_x'] = pd.to_numeric(df.apply(split_max_x, axis=1))\n",
    "df['min_y'] = pd.to_numeric(df.apply(split_min_y, axis=1))\n",
    "df['max_y'] = pd.to_numeric(df.apply(split_max_y, axis=1))\n",
    "df.head(2)"
   ]
  },
  {
   "cell_type": "markdown",
   "id": "9d7bdb3c-5eff-4ca2-a425-c4cfd7db7d4a",
   "metadata": {},
   "source": [
    "### Use shapely box function to build a geometry polygon for each row"
   ]
  },
  {
   "cell_type": "code",
   "execution_count": 9,
   "id": "733db0a8-4d51-40fe-8862-f871b8a658b7",
   "metadata": {},
   "outputs": [],
   "source": [
    "# Create geometry using a box\n",
    "def create_box(row):\n",
    "    ''' This function takes 4 coordinates and creates a box '''\n",
    "    crime_box = box(row['min_y'], row['min_x'], row['max_y'], row['max_x'])\n",
    "    return crime_box"
   ]
  },
  {
   "cell_type": "code",
   "execution_count": 10,
   "id": "a4118b1f-d060-420a-9819-cc3aeb164216",
   "metadata": {},
   "outputs": [
    {
     "data": {
      "text/html": [
       "<div>\n",
       "<style scoped>\n",
       "    .dataframe tbody tr th:only-of-type {\n",
       "        vertical-align: middle;\n",
       "    }\n",
       "\n",
       "    .dataframe tbody tr th {\n",
       "        vertical-align: top;\n",
       "    }\n",
       "\n",
       "    .dataframe thead th {\n",
       "        text-align: right;\n",
       "    }\n",
       "</style>\n",
       "<table border=\"1\" class=\"dataframe\">\n",
       "  <thead>\n",
       "    <tr style=\"text-align: right;\">\n",
       "      <th></th>\n",
       "      <th>Kahjusumma</th>\n",
       "      <th>Lest_X</th>\n",
       "      <th>Lest_Y</th>\n",
       "      <th>min_x</th>\n",
       "      <th>max_x</th>\n",
       "      <th>min_y</th>\n",
       "      <th>max_y</th>\n",
       "      <th>geometry</th>\n",
       "    </tr>\n",
       "  </thead>\n",
       "  <tbody>\n",
       "    <tr>\n",
       "      <th>0</th>\n",
       "      <td>0-499</td>\n",
       "      <td>6588500-6588999</td>\n",
       "      <td>542000-542499</td>\n",
       "      <td>6588500</td>\n",
       "      <td>6588999</td>\n",
       "      <td>542000</td>\n",
       "      <td>542499</td>\n",
       "      <td>POLYGON ((542499 6588500, 542499 6588999, 5420...</td>\n",
       "    </tr>\n",
       "    <tr>\n",
       "      <th>5</th>\n",
       "      <td>500-4999</td>\n",
       "      <td>6589000-6589499</td>\n",
       "      <td>542000-542499</td>\n",
       "      <td>6589000</td>\n",
       "      <td>6589499</td>\n",
       "      <td>542000</td>\n",
       "      <td>542499</td>\n",
       "      <td>POLYGON ((542499 6589000, 542499 6589499, 5420...</td>\n",
       "    </tr>\n",
       "  </tbody>\n",
       "</table>\n",
       "</div>"
      ],
      "text/plain": [
       "  Kahjusumma           Lest_X         Lest_Y    min_x    max_x   min_y  \\\n",
       "0      0-499  6588500-6588999  542000-542499  6588500  6588999  542000   \n",
       "5   500-4999  6589000-6589499  542000-542499  6589000  6589499  542000   \n",
       "\n",
       "    max_y                                           geometry  \n",
       "0  542499  POLYGON ((542499 6588500, 542499 6588999, 5420...  \n",
       "5  542499  POLYGON ((542499 6589000, 542499 6589499, 5420...  "
      ]
     },
     "execution_count": 10,
     "metadata": {},
     "output_type": "execute_result"
    }
   ],
   "source": [
    "# create a geometry column\n",
    "df['geometry'] = df.apply(create_box, axis=1)\n",
    "df.head(2)"
   ]
  },
  {
   "cell_type": "markdown",
   "id": "950ceeb1-cdea-446e-ace1-c33ce23286f9",
   "metadata": {},
   "source": [
    "### Extract the damage sum and the average of the described damage range"
   ]
  },
  {
   "cell_type": "code",
   "execution_count": 11,
   "id": "a850333e-4066-4e2e-8469-b07c62115226",
   "metadata": {},
   "outputs": [],
   "source": [
    "# functions to split and obtain kahjusumma (damage) data sum and average\n",
    "def kahjusumma_sum (row):\n",
    "    ''' This function splits  \"Kahjusumma\" row values and returns their sum'''\n",
    "    try:\n",
    "        split_kahj = row['Kahjusumma'].split('-')\n",
    "        min_kahj = split_kahj[0]\n",
    "        max_kahj = split_kahj[1]\n",
    "        kahj_sum = (float(min_kahj) + float(max_kahj))\n",
    "        return kahj_sum\n",
    "    except:\n",
    "        pass   \n",
    "    \n",
    "def avg_kahjusumma(row):\n",
    "    ''' This function splits  \"Kahjusumma\" row values and returns their average'''\n",
    "    try:\n",
    "        split_kahj = row['Kahjusumma'].split('-')\n",
    "        min_kahj = split_kahj[0]\n",
    "        max_kahj = split_kahj[1]\n",
    "        kahj_average = (float(min_kahj) + float(max_kahj)) / 2\n",
    "        return kahj_average\n",
    "    except:\n",
    "        pass  \n"
   ]
  },
  {
   "cell_type": "code",
   "execution_count": 12,
   "id": "4366ef5c-195d-42d8-abe0-5d79131a0650",
   "metadata": {},
   "outputs": [
    {
     "data": {
      "text/html": [
       "<div>\n",
       "<style scoped>\n",
       "    .dataframe tbody tr th:only-of-type {\n",
       "        vertical-align: middle;\n",
       "    }\n",
       "\n",
       "    .dataframe tbody tr th {\n",
       "        vertical-align: top;\n",
       "    }\n",
       "\n",
       "    .dataframe thead th {\n",
       "        text-align: right;\n",
       "    }\n",
       "</style>\n",
       "<table border=\"1\" class=\"dataframe\">\n",
       "  <thead>\n",
       "    <tr style=\"text-align: right;\">\n",
       "      <th></th>\n",
       "      <th>Kahjusumma</th>\n",
       "      <th>Lest_X</th>\n",
       "      <th>Lest_Y</th>\n",
       "      <th>min_x</th>\n",
       "      <th>max_x</th>\n",
       "      <th>min_y</th>\n",
       "      <th>max_y</th>\n",
       "      <th>geometry</th>\n",
       "      <th>kahj_sum</th>\n",
       "      <th>kahj_average</th>\n",
       "    </tr>\n",
       "  </thead>\n",
       "  <tbody>\n",
       "    <tr>\n",
       "      <th>0</th>\n",
       "      <td>0-499</td>\n",
       "      <td>6588500-6588999</td>\n",
       "      <td>542000-542499</td>\n",
       "      <td>6588500</td>\n",
       "      <td>6588999</td>\n",
       "      <td>542000</td>\n",
       "      <td>542499</td>\n",
       "      <td>POLYGON ((542499 6588500, 542499 6588999, 5420...</td>\n",
       "      <td>499.0</td>\n",
       "      <td>249.5</td>\n",
       "    </tr>\n",
       "    <tr>\n",
       "      <th>5</th>\n",
       "      <td>500-4999</td>\n",
       "      <td>6589000-6589499</td>\n",
       "      <td>542000-542499</td>\n",
       "      <td>6589000</td>\n",
       "      <td>6589499</td>\n",
       "      <td>542000</td>\n",
       "      <td>542499</td>\n",
       "      <td>POLYGON ((542499 6589000, 542499 6589499, 5420...</td>\n",
       "      <td>5499.0</td>\n",
       "      <td>2749.5</td>\n",
       "    </tr>\n",
       "  </tbody>\n",
       "</table>\n",
       "</div>"
      ],
      "text/plain": [
       "  Kahjusumma           Lest_X         Lest_Y    min_x    max_x   min_y  \\\n",
       "0      0-499  6588500-6588999  542000-542499  6588500  6588999  542000   \n",
       "5   500-4999  6589000-6589499  542000-542499  6589000  6589499  542000   \n",
       "\n",
       "    max_y                                           geometry  kahj_sum  \\\n",
       "0  542499  POLYGON ((542499 6588500, 542499 6588999, 5420...     499.0   \n",
       "5  542499  POLYGON ((542499 6589000, 542499 6589499, 5420...    5499.0   \n",
       "\n",
       "   kahj_average  \n",
       "0         249.5  \n",
       "5        2749.5  "
      ]
     },
     "execution_count": 12,
     "metadata": {},
     "output_type": "execute_result"
    }
   ],
   "source": [
    "# create the damage sum and average columns\n",
    "df['kahj_sum'] = pd.to_numeric(df.apply(kahjusumma_sum, axis=1))\n",
    "df['kahj_average'] = pd.to_numeric(df.apply(avg_kahjusumma, axis=1))\n",
    "df.head(2)"
   ]
  },
  {
   "cell_type": "markdown",
   "id": "28bc347b-a76e-4c87-aaea-8d6d618bcba2",
   "metadata": {},
   "source": [
    "### Plot to see the spatial spread"
   ]
  },
  {
   "cell_type": "code",
   "execution_count": 13,
   "id": "11b5f9f1-4036-4494-8bd5-1a445c32f260",
   "metadata": {},
   "outputs": [],
   "source": [
    "# Creating a geodataframe  from the df\n",
    "gdf = gpd.GeoDataFrame(df, crs=3301)"
   ]
  },
  {
   "cell_type": "code",
   "execution_count": 14,
   "id": "f4bfa9c7-f6d0-400f-bf51-830ed9bcd4f5",
   "metadata": {},
   "outputs": [
    {
     "data": {
      "image/png": "[encoded data removed]",
      "text/plain": [
       "<Figure size 1008x576 with 2 Axes>"
      ]
     },
     "metadata": {
      "needs_background": "light"
     },
     "output_type": "display_data"
    }
   ],
   "source": [
    "#  Plot the crime hotspots\n",
    "fig, ax = plt.subplots(figsize = (14,8))\n",
    "gdf.plot(gdf['kahj_average'], ax=ax, linewidth=0.055, legend=True)\n",
    "plt.title('Crime Hotspot Distribution in Estonia')\n",
    "plt.savefig('crime_hotspots.png', facecolor='w')\n",
    "plt.tight_layout()"
   ]
  },
  {
   "cell_type": "markdown",
   "id": "d455a959-0a25-450c-b1b6-8f18064d5fd9",
   "metadata": {},
   "source": [
    "### Summarize damages per same area"
   ]
  },
  {
   "cell_type": "code",
   "execution_count": null,
   "id": "a4b58fac-355b-45ac-ba0b-ce1c3a1ecb48",
   "metadata": {},
   "outputs": [],
   "source": []
  },
  {
   "cell_type": "code",
   "execution_count": null,
   "id": "64995dd2-442f-4013-9c2c-8b7b505e0803",
   "metadata": {},
   "outputs": [],
   "source": []
  },
  {
   "cell_type": "code",
   "execution_count": null,
   "id": "a488e27d-696b-4448-91eb-33a5123bbf1c",
   "metadata": {},
   "outputs": [],
   "source": []
  }
 ],
 "metadata": {
  "kernelspec": {
   "display_name": "Python 3 (ipykernel)",
   "language": "python",
   "name": "python3"
  },
  "language_info": {
   "codemirror_mode": {
    "name": "ipython",
    "version": 3
   },
   "file_extension": ".py",
   "mimetype": "text/x-python",
   "name": "python",
   "nbconvert_exporter": "python",
   "pygments_lexer": "ipython3",
   "version": "3.8.13"
  }
 },
 "nbformat": 4,
 "nbformat_minor": 5
}
